{
  "cells": [
    {
      "cell_type": "code",
      "execution_count": 1,
      "metadata": {
        "colab": {
          "base_uri": "https://localhost:8080/"
        },
        "id": "TpOSr1jK4IcX",
        "outputId": "c79be35c-24f0-412d-cd3a-1567fa492cea"
      },
      "outputs": [
        {
          "output_type": "stream",
          "name": "stdout",
          "text": [
            "Requirement already satisfied: kaggle in /usr/local/lib/python3.10/dist-packages (1.5.16)\n",
            "Requirement already satisfied: six>=1.10 in /usr/local/lib/python3.10/dist-packages (from kaggle) (1.16.0)\n",
            "Requirement already satisfied: certifi in /usr/local/lib/python3.10/dist-packages (from kaggle) (2023.11.17)\n",
            "Requirement already satisfied: python-dateutil in /usr/local/lib/python3.10/dist-packages (from kaggle) (2.8.2)\n",
            "Requirement already satisfied: requests in /usr/local/lib/python3.10/dist-packages (from kaggle) (2.31.0)\n",
            "Requirement already satisfied: tqdm in /usr/local/lib/python3.10/dist-packages (from kaggle) (4.66.1)\n",
            "Requirement already satisfied: python-slugify in /usr/local/lib/python3.10/dist-packages (from kaggle) (8.0.1)\n",
            "Requirement already satisfied: urllib3 in /usr/local/lib/python3.10/dist-packages (from kaggle) (2.0.7)\n",
            "Requirement already satisfied: bleach in /usr/local/lib/python3.10/dist-packages (from kaggle) (6.1.0)\n",
            "Requirement already satisfied: webencodings in /usr/local/lib/python3.10/dist-packages (from bleach->kaggle) (0.5.1)\n",
            "Requirement already satisfied: text-unidecode>=1.3 in /usr/local/lib/python3.10/dist-packages (from python-slugify->kaggle) (1.3)\n",
            "Requirement already satisfied: charset-normalizer<4,>=2 in /usr/local/lib/python3.10/dist-packages (from requests->kaggle) (3.3.2)\n",
            "Requirement already satisfied: idna<4,>=2.5 in /usr/local/lib/python3.10/dist-packages (from requests->kaggle) (3.6)\n"
          ]
        }
      ],
      "source": [
        "!pip install kaggle"
      ]
    },
    {
      "cell_type": "code",
      "execution_count": 2,
      "metadata": {
        "id": "DnyDZ-Ja4m0R"
      },
      "outputs": [],
      "source": [
        "! mkdir ~/.kaggle"
      ]
    },
    {
      "cell_type": "code",
      "execution_count": 3,
      "metadata": {
        "id": "pMlrJsD44tdc"
      },
      "outputs": [],
      "source": [
        "! cp kaggle.json ~/.kaggle/"
      ]
    },
    {
      "cell_type": "code",
      "execution_count": 4,
      "metadata": {
        "id": "seheQfmT4xBr"
      },
      "outputs": [],
      "source": [
        "! chmod 600 ~/.kaggle/kaggle.json"
      ]
    },
    {
      "cell_type": "code",
      "execution_count": 5,
      "metadata": {
        "colab": {
          "base_uri": "https://localhost:8080/"
        },
        "id": "_ahiK0pY5g1z",
        "outputId": "7cf6efd0-6847-4ef8-b0a4-63d542e71a39"
      },
      "outputs": [
        {
          "output_type": "stream",
          "name": "stdout",
          "text": [
            "ref                                                            title                                               size  lastUpdated          downloadCount  voteCount  usabilityRating  \n",
            "-------------------------------------------------------------  -------------------------------------------------  -----  -------------------  -------------  ---------  ---------------  \n",
            "thedrcat/daigt-v2-train-dataset                                DAIGT V2 Train Dataset                              29MB  2023-11-16 01:38:36           1021        113  1.0              \n",
            "muhammadbinimran/housing-price-prediction-data                 Housing Price Prediction Data                      763KB  2023-11-21 17:56:32           3741         77  1.0              \n",
            "carlmcbrideellis/llm-7-prompt-training-dataset                 LLM: 7 prompt training dataset                      41MB  2023-11-15 07:32:56           1381        106  1.0              \n",
            "thedrcat/daigt-proper-train-dataset                            DAIGT Proper Train Dataset                         119MB  2023-11-05 14:03:25           1353        126  1.0              \n",
            "maso0dahmed/video-games-data                                   Video Games Data                                     5MB  2023-11-25 19:08:46           1008         34  1.0              \n",
            "joebeachcapital/30000-spotify-songs                            30000 Spotify Songs                                  3MB  2023-11-01 06:06:43           8857        196  1.0              \n",
            "ddosad/auto-sales-data                                         Automobile Sales data                               79KB  2023-11-18 12:36:41           3284         62  1.0              \n",
            "sujaykapadnis/products-datasets                                Detailed Products Datasets                         100KB  2023-11-24 03:25:10            804         22  1.0              \n",
            "thedevastator/spotify-tracks-genre-dataset                     Spotify Tracks Genre                                 8MB  2023-11-30 04:25:48            519         23  1.0              \n",
            "sriharshaeedala/airline-delay                                  Flight Delay Data                                    6MB  2023-11-28 20:51:12            617         23  1.0              \n",
            "nelgiriyewithana/world-educational-data                        World Educational Data                               9KB  2023-11-04 06:10:17           7215        150  1.0              \n",
            "abdallahwagih/house-price                                      House Price                                        780KB  2023-11-24 13:36:42            520         22  1.0              \n",
            "mahmoudshogaa/titanic-dataset                                  titanic_dataset                                     22KB  2023-11-24 14:19:44            972         40  1.0              \n",
            "asimislam/30-yrs-stock-market-data                             30 yrs Stock Market Data                           882KB  2023-11-29 20:18:02            989         26  1.0              \n",
            "jacksondivakarr/online-shopping-dataset                        🛒 Online Shopping Dataset 📊📉📈                        5MB  2023-11-12 12:35:58           3665         67  1.0              \n",
            "patrickzel/flight-delay-and-cancellation-dataset-2019-2023     Flight Delay and Cancellation Dataset (2019-2023)    2GB  2023-11-29 23:56:17           1546         28  1.0              \n",
            "nelgiriyewithana/australian-vehicle-prices                     Australian Vehicle Prices                          582KB  2023-11-27 04:51:30            819         42  1.0              \n",
            "dillonmyrick/high-school-student-performance-and-demographics  High School Student Performance & Demographics      24KB  2023-11-10 01:33:35           3842         58  1.0              \n",
            "prasad22/healthcare-dataset                                    🩺Healthcare Dataset 🧪                              483KB  2023-10-31 11:30:58           6500        103  1.0              \n",
            "maso0dahmed/netflix-movies-and-shows                           Netflix Movies and Shows                           172KB  2023-11-19 18:26:53           2471         45  1.0              \n"
          ]
        }
      ],
      "source": [
        "!kaggle datasets list"
      ]
    },
    {
      "cell_type": "code",
      "execution_count": 6,
      "metadata": {
        "colab": {
          "base_uri": "https://localhost:8080/"
        },
        "id": "OFYWPqco5yW4",
        "outputId": "cc48a76e-2778-4d6d-faa1-7f8d1c258ef6"
      },
      "outputs": [
        {
          "output_type": "stream",
          "name": "stdout",
          "text": [
            "Downloading diabetic-retinopathy-level-detection.zip to /content\n",
            "100% 9.66G/9.66G [01:20<00:00, 157MB/s]\n",
            "100% 9.66G/9.66G [01:20<00:00, 129MB/s]\n"
          ]
        }
      ],
      "source": [
        "!kaggle datasets download -d arbethi/diabetic-retinopathy-level-detection"
      ]
    },
    {
      "cell_type": "code",
      "execution_count": 7,
      "metadata": {
        "id": "xB9cCm-16bco"
      },
      "outputs": [],
      "source": [
        "!unzip -q /content/diabetic-retinopathy-level-detection.zip"
      ]
    },
    {
      "cell_type": "code",
      "execution_count": 8,
      "metadata": {
        "id": "Oubj8n1469mq"
      },
      "outputs": [],
      "source": [
        "imageSize = [299, 299]\n",
        "trainPath = r'/content/preprocessed dataset/preprocessed dataset/train'\n",
        "testPath = r'/content/preprocessed dataset/preprocessed dataset/test'"
      ]
    },
    {
      "cell_type": "code",
      "execution_count": 9,
      "metadata": {
        "id": "CUDTtfCw7_Q-"
      },
      "outputs": [],
      "source": [
        "from tensorflow.keras.layers import Dense, Flatten, Input\n",
        "from tensorflow.keras.models import Model\n",
        "from tensorflow.keras.preprocessing import image\n",
        "from tensorflow.keras.preprocessing.image import ImageDataGenerator, load_img\n",
        "from tensorflow.keras.applications.xception import Xception, preprocess_input\n",
        "from glob import glob\n",
        "import matplotlib.pyplot as plt\n",
        "import numpy as np"
      ]
    },
    {
      "cell_type": "code",
      "execution_count": 10,
      "metadata": {
        "id": "eXK9pF1a9Hpo"
      },
      "outputs": [],
      "source": [
        "train_datagen = ImageDataGenerator(rescale=1./255,\n",
        "                                   shear_range=0.2,\n",
        "                                   zoom_range=0.2,\n",
        "                                   horizontal_flip=True)\n",
        "test_datagen = ImageDataGenerator(rescale=1./255)"
      ]
    },
    {
      "cell_type": "code",
      "execution_count": 11,
      "metadata": {
        "colab": {
          "base_uri": "https://localhost:8080/"
        },
        "id": "qhjueFuY95sJ",
        "outputId": "84486c6c-a17a-44a5-b14b-80b1ed9d89a3"
      },
      "outputs": [
        {
          "output_type": "stream",
          "name": "stdout",
          "text": [
            "Found 3662 images belonging to 5 classes.\n",
            "Found 734 images belonging to 5 classes.\n"
          ]
        }
      ],
      "source": [
        "training_set = train_datagen.flow_from_directory('/content/preprocessed dataset/preprocessed dataset/training',\n",
        "                                      target_size=(299, 299),\n",
        "                                      class_mode='categorical',\n",
        "                                      batch_size=32)\n",
        "test_set = test_datagen.flow_from_directory('/content/preprocessed dataset/preprocessed dataset/testing',\n",
        "                                    target_size=(299, 299),\n",
        "                                      class_mode='categorical',\n",
        "                                      batch_size=32)"
      ]
    },
    {
      "cell_type": "code",
      "execution_count": 12,
      "metadata": {
        "colab": {
          "base_uri": "https://localhost:8080/"
        },
        "id": "jdbz8QT-oZEf",
        "outputId": "fbfb7d96-c7a8-4320-b742-634390b7e1fd"
      },
      "outputs": [
        {
          "output_type": "execute_result",
          "data": {
            "text/plain": [
              "{'0': 0, '1': 1, '2': 2, '3': 3, '4': 4}"
            ]
          },
          "metadata": {},
          "execution_count": 12
        }
      ],
      "source": [
        "training_set.class_indices"
      ]
    },
    {
      "cell_type": "code",
      "execution_count": 13,
      "metadata": {
        "colab": {
          "base_uri": "https://localhost:8080/"
        },
        "id": "Y_gisONN_pyW",
        "outputId": "9ae058bd-c4a9-4538-b979-cfe964748b58"
      },
      "outputs": [
        {
          "output_type": "stream",
          "name": "stdout",
          "text": [
            "Downloading data from https://storage.googleapis.com/tensorflow/keras-applications/xception/xception_weights_tf_dim_ordering_tf_kernels_notop.h5\n",
            "83683744/83683744 [==============================] - 0s 0us/step\n"
          ]
        }
      ],
      "source": [
        "xception = Xception(input_shape=imageSize + [3], weights='imagenet', include_top=False)"
      ]
    },
    {
      "cell_type": "code",
      "execution_count": 14,
      "metadata": {
        "id": "sbIeRjLs_9P6"
      },
      "outputs": [],
      "source": [
        "for layer in xception.layers:\n",
        "  layer.trainable = False"
      ]
    },
    {
      "cell_type": "code",
      "execution_count": 15,
      "metadata": {
        "id": "-RYpGMMqABBy"
      },
      "outputs": [],
      "source": [
        "x = Flatten()(xception.output)"
      ]
    },
    {
      "cell_type": "code",
      "execution_count": 16,
      "metadata": {
        "id": "zwJMQ6jSAFLI"
      },
      "outputs": [],
      "source": [
        "prediction = Dense(5, activation='softmax')(x)"
      ]
    },
    {
      "cell_type": "code",
      "execution_count": 17,
      "metadata": {
        "id": "6eh63kBBAIUA"
      },
      "outputs": [],
      "source": [
        "model = Model(inputs=xception.input, outputs=prediction)"
      ]
    },
    {
      "cell_type": "code",
      "execution_count": 18,
      "metadata": {
        "id": "Y496SDIKAMP4"
      },
      "outputs": [],
      "source": [
        "model.compile(\n",
        "  loss='categorical_crossentropy',\n",
        "  optimizer='adam',\n",
        "  metrics=['accuracy']\n",
        ")"
      ]
    },
    {
      "cell_type": "code",
      "execution_count": 19,
      "metadata": {
        "id": "nSVCJljCEXl_"
      },
      "outputs": [],
      "source": [
        "batch_size = 32\n",
        "steps_per_epoch = len(training_set) // batch_size"
      ]
    },
    {
      "cell_type": "code",
      "execution_count": 20,
      "metadata": {
        "colab": {
          "base_uri": "https://localhost:8080/"
        },
        "id": "msAejBL5AWD7",
        "outputId": "d7d26828-2dad-4001-db47-306b8d2dbe25"
      },
      "outputs": [
        {
          "output_type": "stream",
          "name": "stderr",
          "text": [
            "<ipython-input-20-b8d67da5f866>:1: UserWarning: `Model.fit_generator` is deprecated and will be removed in a future version. Please use `Model.fit`, which supports generators.\n",
            "  model.fit_generator(\n"
          ]
        },
        {
          "output_type": "stream",
          "name": "stdout",
          "text": [
            "Epoch 1/30\n",
            "3/3 [==============================] - 116s 48s/step - loss: 10.3627 - accuracy: 0.3333 - val_loss: 9.5256 - val_accuracy: 0.6744\n",
            "Epoch 2/30\n",
            "3/3 [==============================] - 98s 46s/step - loss: 13.6696 - accuracy: 0.4896 - val_loss: 5.1921 - val_accuracy: 0.6894\n",
            "Epoch 3/30\n",
            "3/3 [==============================] - 96s 46s/step - loss: 5.5810 - accuracy: 0.5521 - val_loss: 4.6602 - val_accuracy: 0.5831\n",
            "Epoch 4/30\n",
            "3/3 [==============================] - 98s 46s/step - loss: 4.6292 - accuracy: 0.5521 - val_loss: 5.1874 - val_accuracy: 0.6921\n",
            "Epoch 5/30\n",
            "3/3 [==============================] - 96s 46s/step - loss: 6.0952 - accuracy: 0.6979 - val_loss: 4.3979 - val_accuracy: 0.7057\n",
            "Epoch 6/30\n",
            "3/3 [==============================] - 97s 47s/step - loss: 4.7465 - accuracy: 0.6771 - val_loss: 3.1828 - val_accuracy: 0.6185\n",
            "Epoch 7/30\n",
            "3/3 [==============================] - 98s 47s/step - loss: 4.7741 - accuracy: 0.5417 - val_loss: 2.6210 - val_accuracy: 0.6049\n",
            "Epoch 8/30\n",
            "3/3 [==============================] - 97s 47s/step - loss: 3.7027 - accuracy: 0.6042 - val_loss: 3.9800 - val_accuracy: 0.6785\n",
            "Epoch 9/30\n",
            "3/3 [==============================] - 96s 46s/step - loss: 3.8186 - accuracy: 0.7083 - val_loss: 4.1604 - val_accuracy: 0.6948\n",
            "Epoch 10/30\n",
            "3/3 [==============================] - 96s 46s/step - loss: 4.6978 - accuracy: 0.6354 - val_loss: 3.9677 - val_accuracy: 0.6294\n",
            "Epoch 11/30\n",
            "3/3 [==============================] - 95s 46s/step - loss: 2.2784 - accuracy: 0.6771 - val_loss: 4.5040 - val_accuracy: 0.6471\n",
            "Epoch 12/30\n",
            "3/3 [==============================] - 97s 46s/step - loss: 7.0672 - accuracy: 0.5417 - val_loss: 2.0230 - val_accuracy: 0.7139\n",
            "Epoch 13/30\n",
            "3/3 [==============================] - 96s 46s/step - loss: 3.5415 - accuracy: 0.6146 - val_loss: 4.0429 - val_accuracy: 0.6076\n",
            "Epoch 14/30\n",
            "3/3 [==============================] - 97s 46s/step - loss: 4.4859 - accuracy: 0.5938 - val_loss: 3.6882 - val_accuracy: 0.6894\n",
            "Epoch 15/30\n",
            "3/3 [==============================] - 155s 75s/step - loss: 4.9037 - accuracy: 0.6562 - val_loss: 2.8537 - val_accuracy: 0.7234\n",
            "Epoch 16/30\n",
            "3/3 [==============================] - 98s 47s/step - loss: 2.4550 - accuracy: 0.7083 - val_loss: 2.5397 - val_accuracy: 0.6880\n",
            "Epoch 17/30\n",
            "3/3 [==============================] - 96s 46s/step - loss: 2.0067 - accuracy: 0.7292 - val_loss: 2.4609 - val_accuracy: 0.7289\n",
            "Epoch 18/30\n",
            "3/3 [==============================] - 95s 46s/step - loss: 3.3787 - accuracy: 0.6771 - val_loss: 2.1003 - val_accuracy: 0.7466\n",
            "Epoch 19/30\n",
            "3/3 [==============================] - 97s 46s/step - loss: 2.2428 - accuracy: 0.7188 - val_loss: 2.4923 - val_accuracy: 0.7262\n",
            "Epoch 20/30\n",
            "3/3 [==============================] - 97s 46s/step - loss: 4.0529 - accuracy: 0.6354 - val_loss: 2.7524 - val_accuracy: 0.6458\n",
            "Epoch 21/30\n",
            "3/3 [==============================] - 95s 45s/step - loss: 3.2654 - accuracy: 0.6979 - val_loss: 2.4772 - val_accuracy: 0.6662\n",
            "Epoch 22/30\n",
            "3/3 [==============================] - 155s 75s/step - loss: 3.6945 - accuracy: 0.6354 - val_loss: 2.2148 - val_accuracy: 0.7343\n",
            "Epoch 23/30\n",
            "3/3 [==============================] - 97s 46s/step - loss: 2.4390 - accuracy: 0.7500 - val_loss: 2.3666 - val_accuracy: 0.7112\n",
            "Epoch 24/30\n",
            "3/3 [==============================] - 97s 45s/step - loss: 4.0023 - accuracy: 0.7188 - val_loss: 2.8275 - val_accuracy: 0.7439\n",
            "Epoch 25/30\n",
            "3/3 [==============================] - 96s 46s/step - loss: 3.7754 - accuracy: 0.6562 - val_loss: 2.8914 - val_accuracy: 0.7180\n",
            "Epoch 26/30\n",
            "3/3 [==============================] - 96s 46s/step - loss: 2.0197 - accuracy: 0.7396 - val_loss: 2.3500 - val_accuracy: 0.7112\n",
            "Epoch 27/30\n",
            "3/3 [==============================] - 95s 46s/step - loss: 1.6697 - accuracy: 0.7604 - val_loss: 2.6584 - val_accuracy: 0.7207\n",
            "Epoch 28/30\n",
            "3/3 [==============================] - 96s 46s/step - loss: 3.0263 - accuracy: 0.7292 - val_loss: 2.6168 - val_accuracy: 0.7439\n",
            "Epoch 29/30\n",
            "3/3 [==============================] - 94s 45s/step - loss: 2.1467 - accuracy: 0.7396 - val_loss: 2.7079 - val_accuracy: 0.6826\n",
            "Epoch 30/30\n",
            "3/3 [==============================] - 99s 47s/step - loss: 2.3992 - accuracy: 0.7083 - val_loss: 2.2587 - val_accuracy: 0.7275\n"
          ]
        },
        {
          "output_type": "execute_result",
          "data": {
            "text/plain": [
              "<keras.src.callbacks.History at 0x7fc115e16e60>"
            ]
          },
          "metadata": {},
          "execution_count": 20
        }
      ],
      "source": [
        "model.fit_generator(\n",
        "  training_set,\n",
        "  validation_data=test_set,\n",
        "  epochs=30,\n",
        "  steps_per_epoch=len(training_set) // batch_size,\n",
        "\n",
        "  validation_steps=len(test_set)\n",
        ")"
      ]
    },
    {
      "cell_type": "code",
      "execution_count": 22,
      "metadata": {
        "id": "Cnzx_2JtAjHE"
      },
      "outputs": [],
      "source": [
        "model.save('updated-xception-diabetic-retinopathy.h5')"
      ]
    }
  ],
  "metadata": {
    "accelerator": "TPU",
    "colab": {
      "provenance": []
    },
    "kernelspec": {
      "display_name": "Python 3",
      "name": "python3"
    },
    "language_info": {
      "name": "python"
    }
  },
  "nbformat": 4,
  "nbformat_minor": 0
}